{
 "cells": [
  {
   "cell_type": "code",
   "execution_count": 3,
   "id": "8cbb5897-ad7c-474b-a6e0-7486a3ebe571",
   "metadata": {},
   "outputs": [
    {
     "name": "stdout",
     "output_type": "stream",
     "text": [
      "NAME:Rahul Mandal\n",
      "BATCH:B6\n",
      "SAP ID:590017694\n",
      "I am using Python version 3.12.4 (tags/v3.12.4:8e8a4ba, Jun  6 2024, 19:30:16) [MSC v.1940 64 bit (AMD64)].\n",
      "Hello Python World!\n"
     ]
    }
   ],
   "source": [
    "import sys\n",
    "python_version = sys.version\n",
    "print(\"NAME:Rahul Mandal\\nBATCH:B6\\nSAP ID:590017694\")\n",
    "print(f\"I am using Python version {python_version}.\")\n",
    "\n",
    "print(\"Hello Python World!\")"
   ]
  },
  {
   "cell_type": "markdown",
   "id": "140650a0-9d6e-495a-8a60-791bb26901d5",
   "metadata": {},
   "source": [
    " Write a Python program that takes a user's first and last name as input and\n",
    " prints them in reverse order with a space between them."
   ]
  },
  {
   "cell_type": "code",
   "execution_count": 6,
   "id": "7077771f-7f3e-49fc-9975-36b0311872fe",
   "metadata": {},
   "outputs": [
    {
     "name": "stdin",
     "output_type": "stream",
     "text": [
      "Enter the first name  Rahul\n",
      "Enter the second name  Mandal\n"
     ]
    },
    {
     "name": "stdout",
     "output_type": "stream",
     "text": [
      "ladnaM luhaR\n"
     ]
    }
   ],
   "source": [
    "str1=input(\"Enter the first name \")\n",
    "str2=input(\"Enter the second name \")\n",
    "print((str2[::-1] + \" \"+ str1[::-1]))"
   ]
  },
  {
   "cell_type": "markdown",
   "id": "a4c55aba-3e27-4205-a4ed-13d65c5db31e",
   "metadata": {},
   "source": [
    " Write a Python program that takes an input number from the user,\n",
    " converts it to different numeric data types (integer, float, and complex),\n",
    " and displays the converted values.\n"
   ]
  },
  {
   "cell_type": "code",
   "execution_count": 7,
   "id": "0ed88db7-7aa1-4319-89e0-3f4b25e4777e",
   "metadata": {},
   "outputs": [
    {
     "name": "stdin",
     "output_type": "stream",
     "text": [
      "Enter a number:  56\n"
     ]
    },
    {
     "name": "stdout",
     "output_type": "stream",
     "text": [
      "Integer: 56\n",
      "Float: 56.0\n",
      "Complex: (56+0j)\n"
     ]
    }
   ],
   "source": [
    "user_input = input(\"Enter a number: \")\n",
    "\n",
    "print(\"Integer:\", int(user_input))\n",
    "print(\"Float:\", float(user_input))\n",
    "print(\"Complex:\", complex(user_input))"
   ]
  },
  {
   "cell_type": "markdown",
   "id": "aee695a9-e12e-4cc0-ba23-3c74bb70663b",
   "metadata": {},
   "source": [
    "Create a Python script that calculates the area of a rectangle."
   ]
  },
  {
   "cell_type": "code",
   "execution_count": 8,
   "id": "b25e67db-80ea-48dd-8f28-420a8d2b3c91",
   "metadata": {},
   "outputs": [
    {
     "name": "stdin",
     "output_type": "stream",
     "text": [
      "Enter the lenght of rectangle :  5\n",
      "Enter the width of rectangle :  6\n"
     ]
    },
    {
     "name": "stdout",
     "output_type": "stream",
     "text": [
      "The area is 30.00\n"
     ]
    }
   ],
   "source": [
    "length=float(input(\"Enter the lenght of rectangle : \"))\n",
    "width=float(input(\"Enter the width of rectangle : \"))\n",
    "area=length*width\n",
    "print(f\"The area is {area:.2f}\")"
   ]
  },
  {
   "cell_type": "markdown",
   "id": "645b5c01-59df-4ae7-9950-31de52d8a4d4",
   "metadata": {},
   "source": [
    "Write a Python script that takes three numbers as input and prints their average using the % method for string formatting"
   ]
  },
  {
   "cell_type": "code",
   "execution_count": 9,
   "id": "e630b448-1b37-4743-ab02-b58a814842ab",
   "metadata": {},
   "outputs": [
    {
     "name": "stdin",
     "output_type": "stream",
     "text": [
      "Enter the first number : 5\n",
      "Enter the second number : 6\n",
      "Enter the third number : 7\n"
     ]
    },
    {
     "name": "stdout",
     "output_type": "stream",
     "text": [
      "The average of given number is 6.00\n"
     ]
    }
   ],
   "source": [
    "num1=float(input(\"Enter the first number :\"))\n",
    "num2=float(input(\"Enter the second number :\"))\n",
    "num3=float(input(\"Enter the third number :\"))\n",
    "avg=(num1+num2+num3)/3\n",
    "print(\"The average of given number is %.2f\" %avg)"
   ]
  },
  {
   "cell_type": "markdown",
   "id": "e9db9588-3957-4c91-a1a9-7c2f6bc3b75d",
   "metadata": {},
   "source": [
    "Write a Python program that asks the user for a number and determines whether it is positive, negative, or zero.\n",
    "Implement a loop that continues to ask the user for a number until they enter 'exit'.\n",
    "Use break to exit the loop and continue to prompt for a new number if the input is not 'exit'."
   ]
  },
  {
   "cell_type": "code",
   "execution_count": 10,
   "id": "e000f4ea-5437-4015-9a75-43b65650aa00",
   "metadata": {},
   "outputs": [
    {
     "name": "stdin",
     "output_type": "stream",
     "text": [
      "Enter a number (or type 'exit' to quit):  23\n"
     ]
    },
    {
     "name": "stdout",
     "output_type": "stream",
     "text": [
      "23.0 is a positive number.\n"
     ]
    },
    {
     "name": "stdin",
     "output_type": "stream",
     "text": [
      "Enter a number (or type 'exit' to quit):  -4\n"
     ]
    },
    {
     "name": "stdout",
     "output_type": "stream",
     "text": [
      "-4.0 is a negative number.\n"
     ]
    },
    {
     "name": "stdin",
     "output_type": "stream",
     "text": [
      "Enter a number (or type 'exit' to quit):  exit\n"
     ]
    }
   ],
   "source": [
    "while True:\n",
    "    user_input = input(\"Enter a number (or type 'exit' to quit): \")\n",
    "\n",
    "    if user_input.lower() == 'exit':\n",
    "        break\n",
    "\n",
    "    try:\n",
    "        num = float(user_input)\n",
    "        if num > 0:\n",
    "            print(f\"{num} is a positive number.\")\n",
    "        elif num < 0:\n",
    "            print(f\"{num} is a negative number.\")\n",
    "        else:\n",
    "            print(f\"{num} is zero.\")\n",
    "    except ValueError:\n",
    "        print(\"Invalid input. Please enter a number or type 'exit' to quit.\")\n",
    "        continue"
   ]
  },
  {
   "cell_type": "markdown",
   "id": "08327fbb-1e5f-4229-9f22-5ec1da41e563",
   "metadata": {},
   "source": [
    "Create a Python script that takes two numbers as input and \n",
    "prints whether both numbers are even, odd, or one of each using relational and logical operators."
   ]
  },
  {
   "cell_type": "code",
   "execution_count": 12,
   "id": "17e3ee6c-e456-4a54-a198-eb04af312bea",
   "metadata": {},
   "outputs": [
    {
     "name": "stdin",
     "output_type": "stream",
     "text": [
      "Enter the first value : 6\n",
      "Enter the  second value : 5\n"
     ]
    },
    {
     "name": "stdout",
     "output_type": "stream",
     "text": [
      "One number is even and the other is odd.\n"
     ]
    }
   ],
   "source": [
    "val1 = int(input(\"Enter the first value :\"))                 \n",
    "val2 = int(input(\"Enter the  second value :\"))       \n",
    "if(val1%2==0 and val2%2==0):\n",
    "    print(\"both are even\")\n",
    "elif(val1%2!=0 and val2%2!=0):\n",
    "    print(\"both are odd\")\n",
    "elif(val1%2!=0 or val2%2!=0):\n",
    "    print(\"One number is even and the other is odd.\")"
   ]
  },
  {
   "cell_type": "markdown",
   "id": "4b6e4542-9def-46c6-9443-0e97a479ed09",
   "metadata": {},
   "source": [
    "Write a Python program that takes an integer input and\n",
    "prints its binary, octal, and hexadecimal equivalents using a for loop and bitwise operators."
   ]
  },
  {
   "cell_type": "code",
   "execution_count": 15,
   "id": "7aff3afc-f4a8-42f9-ad24-baa53606c9fb",
   "metadata": {},
   "outputs": [
    {
     "name": "stdin",
     "output_type": "stream",
     "text": [
      "Enter an integer:  15\n"
     ]
    },
    {
     "name": "stdout",
     "output_type": "stream",
     "text": [
      "Binary: 1111\n",
      "Hexadecimal: F\n",
      "Octal: 17\n",
      "Thank You!\n"
     ]
    }
   ],
   "source": [
    "num = int(input(\"Enter an integer: \"))\n",
    "formats = [('Binary', bin), ('Hexadecimal', hex), ('Octal', oct)]\n",
    "for name, func in formats:\n",
    "    print(f\"{name}: {func(num)[2:].upper()}\")\n",
    "print(\"Thank You!\")"
   ]
  },
  {
   "cell_type": "code",
   "execution_count": null,
   "id": "ff29c965-335d-4d04-bda9-6f05a41a6b34",
   "metadata": {},
   "outputs": [],
   "source": []
  }
 ],
 "metadata": {
  "kernelspec": {
   "display_name": "Python 3 (ipykernel)",
   "language": "python",
   "name": "python3"
  },
  "language_info": {
   "codemirror_mode": {
    "name": "ipython",
    "version": 3
   },
   "file_extension": ".py",
   "mimetype": "text/x-python",
   "name": "python",
   "nbconvert_exporter": "python",
   "pygments_lexer": "ipython3",
   "version": "3.12.4"
  }
 },
 "nbformat": 4,
 "nbformat_minor": 5
}
